{
 "cells": [
  {
   "cell_type": "code",
   "execution_count": 91,
   "id": "91fc0d7e",
   "metadata": {},
   "outputs": [],
   "source": [
    "import pandas as pd\n",
    "import numpy as np\n",
    "import datetime"
   ]
  },
  {
   "cell_type": "code",
   "execution_count": 3,
   "id": "314ea7d2",
   "metadata": {},
   "outputs": [],
   "source": [
    "df = pd.read_csv('tg_news.csv', index_col=0, header=0)"
   ]
  },
  {
   "cell_type": "code",
   "execution_count": 9,
   "id": "b026bade",
   "metadata": {},
   "outputs": [
    {
     "data": {
      "text/html": [
       "<div>\n",
       "<style scoped>\n",
       "    .dataframe tbody tr th:only-of-type {\n",
       "        vertical-align: middle;\n",
       "    }\n",
       "\n",
       "    .dataframe tbody tr th {\n",
       "        vertical-align: top;\n",
       "    }\n",
       "\n",
       "    .dataframe thead th {\n",
       "        text-align: right;\n",
       "    }\n",
       "</style>\n",
       "<table border=\"1\" class=\"dataframe\">\n",
       "  <thead>\n",
       "    <tr style=\"text-align: right;\">\n",
       "      <th></th>\n",
       "      <th>channel</th>\n",
       "      <th>text</th>\n",
       "      <th>date</th>\n",
       "    </tr>\n",
       "  </thead>\n",
       "  <tbody>\n",
       "    <tr>\n",
       "      <th>count</th>\n",
       "      <td>258745</td>\n",
       "      <td>218962</td>\n",
       "      <td>258745</td>\n",
       "    </tr>\n",
       "    <tr>\n",
       "      <th>unique</th>\n",
       "      <td>25</td>\n",
       "      <td>213479</td>\n",
       "      <td>223664</td>\n",
       "    </tr>\n",
       "    <tr>\n",
       "      <th>top</th>\n",
       "      <td>Channel(id=1049795479, title='E1.RU | Новости ...</td>\n",
       "      <td>None</td>\n",
       "      <td>2020-09-07 13:56:22+00:00</td>\n",
       "    </tr>\n",
       "    <tr>\n",
       "      <th>freq</th>\n",
       "      <td>50188</td>\n",
       "      <td>280</td>\n",
       "      <td>11</td>\n",
       "    </tr>\n",
       "  </tbody>\n",
       "</table>\n",
       "</div>"
      ],
      "text/plain": [
       "                                                  channel    text  \\\n",
       "count                                              258745  218962   \n",
       "unique                                                 25  213479   \n",
       "top     Channel(id=1049795479, title='E1.RU | Новости ...    None   \n",
       "freq                                                50188     280   \n",
       "\n",
       "                             date  \n",
       "count                      258745  \n",
       "unique                     223664  \n",
       "top     2020-09-07 13:56:22+00:00  \n",
       "freq                           11  "
      ]
     },
     "execution_count": 9,
     "metadata": {},
     "output_type": "execute_result"
    }
   ],
   "source": [
    "df.describe()"
   ]
  },
  {
   "cell_type": "code",
   "execution_count": 17,
   "id": "9a8a0a0d",
   "metadata": {},
   "outputs": [
    {
     "data": {
      "text/html": [
       "<div>\n",
       "<style scoped>\n",
       "    .dataframe tbody tr th:only-of-type {\n",
       "        vertical-align: middle;\n",
       "    }\n",
       "\n",
       "    .dataframe tbody tr th {\n",
       "        vertical-align: top;\n",
       "    }\n",
       "\n",
       "    .dataframe thead th {\n",
       "        text-align: right;\n",
       "    }\n",
       "</style>\n",
       "<table border=\"1\" class=\"dataframe\">\n",
       "  <thead>\n",
       "    <tr style=\"text-align: right;\">\n",
       "      <th></th>\n",
       "      <th>channel</th>\n",
       "      <th>text</th>\n",
       "      <th>date</th>\n",
       "    </tr>\n",
       "  </thead>\n",
       "  <tbody>\n",
       "    <tr>\n",
       "      <th>0</th>\n",
       "      <td>Channel(id=1287283795, title='Челябинск Сегодн...</td>\n",
       "      <td>NaN</td>\n",
       "      <td>2021-11-11 06:49:14+00:00</td>\n",
       "    </tr>\n",
       "    <tr>\n",
       "      <th>1</th>\n",
       "      <td>Channel(id=1287283795, title='Челябинск Сегодн...</td>\n",
       "      <td>Срочно окажите этому человеку помощь с пониман...</td>\n",
       "      <td>2021-11-11 06:27:05+00:00</td>\n",
       "    </tr>\n",
       "    <tr>\n",
       "      <th>2</th>\n",
       "      <td>Channel(id=1287283795, title='Челябинск Сегодн...</td>\n",
       "      <td>Мы сравнили количество подписчиков уральских г...</td>\n",
       "      <td>2021-11-11 05:56:31+00:00</td>\n",
       "    </tr>\n",
       "    <tr>\n",
       "      <th>3</th>\n",
       "      <td>Channel(id=1287283795, title='Челябинск Сегодн...</td>\n",
       "      <td>Челябинск признан самым снежным городом в Росс...</td>\n",
       "      <td>2021-11-11 04:51:31+00:00</td>\n",
       "    </tr>\n",
       "    <tr>\n",
       "      <th>4</th>\n",
       "      <td>Channel(id=1287283795, title='Челябинск Сегодн...</td>\n",
       "      <td>Российские провайдеры могут на 10% увеличить с...</td>\n",
       "      <td>2021-11-11 04:43:22+00:00</td>\n",
       "    </tr>\n",
       "  </tbody>\n",
       "</table>\n",
       "</div>"
      ],
      "text/plain": [
       "                                             channel  \\\n",
       "0  Channel(id=1287283795, title='Челябинск Сегодн...   \n",
       "1  Channel(id=1287283795, title='Челябинск Сегодн...   \n",
       "2  Channel(id=1287283795, title='Челябинск Сегодн...   \n",
       "3  Channel(id=1287283795, title='Челябинск Сегодн...   \n",
       "4  Channel(id=1287283795, title='Челябинск Сегодн...   \n",
       "\n",
       "                                                text  \\\n",
       "0                                                NaN   \n",
       "1  Срочно окажите этому человеку помощь с пониман...   \n",
       "2  Мы сравнили количество подписчиков уральских г...   \n",
       "3  Челябинск признан самым снежным городом в Росс...   \n",
       "4  Российские провайдеры могут на 10% увеличить с...   \n",
       "\n",
       "                        date  \n",
       "0  2021-11-11 06:49:14+00:00  \n",
       "1  2021-11-11 06:27:05+00:00  \n",
       "2  2021-11-11 05:56:31+00:00  \n",
       "3  2021-11-11 04:51:31+00:00  \n",
       "4  2021-11-11 04:43:22+00:00  "
      ]
     },
     "execution_count": 17,
     "metadata": {},
     "output_type": "execute_result"
    }
   ],
   "source": [
    "df.head()"
   ]
  },
  {
   "cell_type": "code",
   "execution_count": 69,
   "id": "4fc24038",
   "metadata": {},
   "outputs": [],
   "source": [
    "df1 = df[(df['text'].notna()) & (df['text'] != 'None')]"
   ]
  },
  {
   "cell_type": "code",
   "execution_count": 71,
   "id": "46a4c716",
   "metadata": {},
   "outputs": [
    {
     "data": {
      "text/html": [
       "<div>\n",
       "<style scoped>\n",
       "    .dataframe tbody tr th:only-of-type {\n",
       "        vertical-align: middle;\n",
       "    }\n",
       "\n",
       "    .dataframe tbody tr th {\n",
       "        vertical-align: top;\n",
       "    }\n",
       "\n",
       "    .dataframe thead th {\n",
       "        text-align: right;\n",
       "    }\n",
       "</style>\n",
       "<table border=\"1\" class=\"dataframe\">\n",
       "  <thead>\n",
       "    <tr style=\"text-align: right;\">\n",
       "      <th></th>\n",
       "      <th>channel</th>\n",
       "      <th>text</th>\n",
       "      <th>date</th>\n",
       "    </tr>\n",
       "  </thead>\n",
       "  <tbody>\n",
       "    <tr>\n",
       "      <th>0</th>\n",
       "      <td>Channel(id=1287283795, title='Челябинск Сегодн...</td>\n",
       "      <td>Срочно окажите этому человеку помощь с пониман...</td>\n",
       "      <td>2021-11-11 06:27:05+00:00</td>\n",
       "    </tr>\n",
       "    <tr>\n",
       "      <th>1</th>\n",
       "      <td>Channel(id=1287283795, title='Челябинск Сегодн...</td>\n",
       "      <td>Мы сравнили количество подписчиков уральских г...</td>\n",
       "      <td>2021-11-11 05:56:31+00:00</td>\n",
       "    </tr>\n",
       "    <tr>\n",
       "      <th>2</th>\n",
       "      <td>Channel(id=1287283795, title='Челябинск Сегодн...</td>\n",
       "      <td>Челябинск признан самым снежным городом в Росс...</td>\n",
       "      <td>2021-11-11 04:51:31+00:00</td>\n",
       "    </tr>\n",
       "    <tr>\n",
       "      <th>3</th>\n",
       "      <td>Channel(id=1287283795, title='Челябинск Сегодн...</td>\n",
       "      <td>Российские провайдеры могут на 10% увеличить с...</td>\n",
       "      <td>2021-11-11 04:43:22+00:00</td>\n",
       "    </tr>\n",
       "    <tr>\n",
       "      <th>4</th>\n",
       "      <td>Channel(id=1287283795, title='Челябинск Сегодн...</td>\n",
       "      <td>Мэрия Челябинска сообщает про аварию на теплос...</td>\n",
       "      <td>2021-11-11 04:26:29+00:00</td>\n",
       "    </tr>\n",
       "    <tr>\n",
       "      <th>...</th>\n",
       "      <td>...</td>\n",
       "      <td>...</td>\n",
       "      <td>...</td>\n",
       "    </tr>\n",
       "    <tr>\n",
       "      <th>218677</th>\n",
       "      <td>Channel(id=1047260531, title=\"It's My City\", p...</td>\n",
       "      <td>Пишут, что после длительного (и, судя по всему...</td>\n",
       "      <td>2016-04-16 17:08:52+00:00</td>\n",
       "    </tr>\n",
       "    <tr>\n",
       "      <th>218678</th>\n",
       "      <td>Channel(id=1047260531, title=\"It's My City\", p...</td>\n",
       "      <td>Какое-то совсем заброшенное и малохуоженное ме...</td>\n",
       "      <td>2016-04-16 12:00:29+00:00</td>\n",
       "    </tr>\n",
       "    <tr>\n",
       "      <th>218679</th>\n",
       "      <td>Channel(id=1047260531, title=\"It's My City\", p...</td>\n",
       "      <td>В Дендропарке, кстати, почти идеальная чистота...</td>\n",
       "      <td>2016-04-16 11:05:32+00:00</td>\n",
       "    </tr>\n",
       "    <tr>\n",
       "      <th>218680</th>\n",
       "      <td>Channel(id=1047260531, title=\"It's My City\", p...</td>\n",
       "      <td>Пока самая эффективная коммунальная служба в г...</td>\n",
       "      <td>2016-04-16 11:03:48+00:00</td>\n",
       "    </tr>\n",
       "    <tr>\n",
       "      <th>218681</th>\n",
       "      <td>Channel(id=1047260531, title=\"It's My City\", p...</td>\n",
       "      <td>Добрый вечер! Это полуофициальный канал ItsMyC...</td>\n",
       "      <td>2016-04-15 15:43:47+00:00</td>\n",
       "    </tr>\n",
       "  </tbody>\n",
       "</table>\n",
       "<p>218682 rows × 3 columns</p>\n",
       "</div>"
      ],
      "text/plain": [
       "                                                  channel  \\\n",
       "0       Channel(id=1287283795, title='Челябинск Сегодн...   \n",
       "1       Channel(id=1287283795, title='Челябинск Сегодн...   \n",
       "2       Channel(id=1287283795, title='Челябинск Сегодн...   \n",
       "3       Channel(id=1287283795, title='Челябинск Сегодн...   \n",
       "4       Channel(id=1287283795, title='Челябинск Сегодн...   \n",
       "...                                                   ...   \n",
       "218677  Channel(id=1047260531, title=\"It's My City\", p...   \n",
       "218678  Channel(id=1047260531, title=\"It's My City\", p...   \n",
       "218679  Channel(id=1047260531, title=\"It's My City\", p...   \n",
       "218680  Channel(id=1047260531, title=\"It's My City\", p...   \n",
       "218681  Channel(id=1047260531, title=\"It's My City\", p...   \n",
       "\n",
       "                                                     text  \\\n",
       "0       Срочно окажите этому человеку помощь с пониман...   \n",
       "1       Мы сравнили количество подписчиков уральских г...   \n",
       "2       Челябинск признан самым снежным городом в Росс...   \n",
       "3       Российские провайдеры могут на 10% увеличить с...   \n",
       "4       Мэрия Челябинска сообщает про аварию на теплос...   \n",
       "...                                                   ...   \n",
       "218677  Пишут, что после длительного (и, судя по всему...   \n",
       "218678  Какое-то совсем заброшенное и малохуоженное ме...   \n",
       "218679  В Дендропарке, кстати, почти идеальная чистота...   \n",
       "218680  Пока самая эффективная коммунальная служба в г...   \n",
       "218681  Добрый вечер! Это полуофициальный канал ItsMyC...   \n",
       "\n",
       "                             date  \n",
       "0       2021-11-11 06:27:05+00:00  \n",
       "1       2021-11-11 05:56:31+00:00  \n",
       "2       2021-11-11 04:51:31+00:00  \n",
       "3       2021-11-11 04:43:22+00:00  \n",
       "4       2021-11-11 04:26:29+00:00  \n",
       "...                           ...  \n",
       "218677  2016-04-16 17:08:52+00:00  \n",
       "218678  2016-04-16 12:00:29+00:00  \n",
       "218679  2016-04-16 11:05:32+00:00  \n",
       "218680  2016-04-16 11:03:48+00:00  \n",
       "218681  2016-04-15 15:43:47+00:00  \n",
       "\n",
       "[218682 rows x 3 columns]"
      ]
     },
     "execution_count": 71,
     "metadata": {},
     "output_type": "execute_result"
    }
   ],
   "source": [
    "df1.reset_index(drop=True)"
   ]
  },
  {
   "cell_type": "code",
   "execution_count": 72,
   "id": "e1c233de",
   "metadata": {},
   "outputs": [],
   "source": [
    "df1.to_csv('news.csv')"
   ]
  },
  {
   "cell_type": "code",
   "execution_count": 93,
   "id": "7744a2e5",
   "metadata": {},
   "outputs": [
    {
     "data": {
      "text/plain": [
       "'2021-11-11 06:27:05+00:00'"
      ]
     },
     "execution_count": 93,
     "metadata": {},
     "output_type": "execute_result"
    }
   ],
   "source": [
    "df1['date'][1]"
   ]
  },
  {
   "cell_type": "code",
   "execution_count": 94,
   "id": "e482de84",
   "metadata": {},
   "outputs": [
    {
     "name": "stderr",
     "output_type": "stream",
     "text": [
      "/tmp/ipykernel_1957/2129961175.py:1: SettingWithCopyWarning: \n",
      "A value is trying to be set on a copy of a slice from a DataFrame.\n",
      "Try using .loc[row_indexer,col_indexer] = value instead\n",
      "\n",
      "See the caveats in the documentation: https://pandas.pydata.org/pandas-docs/stable/user_guide/indexing.html#returning-a-view-versus-a-copy\n",
      "  df1['date'] = pd.to_datetime(df1['date'])\n"
     ]
    }
   ],
   "source": [
    "df1['date'] = pd.to_datetime(df1['date'])"
   ]
  },
  {
   "cell_type": "code",
   "execution_count": 104,
   "id": "93b3f39d",
   "metadata": {},
   "outputs": [
    {
     "data": {
      "text/plain": [
       "datetime.date(2021, 11, 11)"
      ]
     },
     "execution_count": 104,
     "metadata": {},
     "output_type": "execute_result"
    }
   ],
   "source": [
    "df1['date'][1].date()"
   ]
  },
  {
   "cell_type": "code",
   "execution_count": 105,
   "id": "6b8d7009",
   "metadata": {},
   "outputs": [
    {
     "name": "stderr",
     "output_type": "stream",
     "text": [
      "/tmp/ipykernel_1957/1481990036.py:1: SettingWithCopyWarning: \n",
      "A value is trying to be set on a copy of a slice from a DataFrame.\n",
      "Try using .loc[row_indexer,col_indexer] = value instead\n",
      "\n",
      "See the caveats in the documentation: https://pandas.pydata.org/pandas-docs/stable/user_guide/indexing.html#returning-a-view-versus-a-copy\n",
      "  df1['date'] = [x.date() for x in df1['date']]\n"
     ]
    }
   ],
   "source": [
    "df1['date'] = [x.date() for x in df1['date']]"
   ]
  },
  {
   "cell_type": "code",
   "execution_count": 106,
   "id": "39f9e298",
   "metadata": {},
   "outputs": [
    {
     "data": {
      "text/plain": [
       "1         2021-11-11\n",
       "2         2021-11-11\n",
       "3         2021-11-11\n",
       "4         2021-11-11\n",
       "5         2021-11-11\n",
       "             ...    \n",
       "258738    2016-04-16\n",
       "258739    2016-04-16\n",
       "258740    2016-04-16\n",
       "258741    2016-04-16\n",
       "258742    2016-04-15\n",
       "Name: date, Length: 218682, dtype: object"
      ]
     },
     "execution_count": 106,
     "metadata": {},
     "output_type": "execute_result"
    }
   ],
   "source": [
    "df1['date']"
   ]
  },
  {
   "cell_type": "code",
   "execution_count": null,
   "id": "775b7998",
   "metadata": {},
   "outputs": [],
   "source": []
  }
 ],
 "metadata": {
  "kernelspec": {
   "display_name": "Python 3 (ipykernel)",
   "language": "python",
   "name": "python3"
  },
  "language_info": {
   "codemirror_mode": {
    "name": "ipython",
    "version": 3
   },
   "file_extension": ".py",
   "mimetype": "text/x-python",
   "name": "python",
   "nbconvert_exporter": "python",
   "pygments_lexer": "ipython3",
   "version": "3.8.12"
  }
 },
 "nbformat": 4,
 "nbformat_minor": 5
}
